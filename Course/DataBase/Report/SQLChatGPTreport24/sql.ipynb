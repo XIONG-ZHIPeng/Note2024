{
 "cells": [
  {
   "cell_type": "code",
   "execution_count": 29,
   "metadata": {},
   "outputs": [
    {
     "name": "stdout",
     "output_type": "stream",
     "text": [
      "Table 'MenuItem' dropped successfully.\n",
      "Table 'Guest' dropped successfully.\n",
      "Table 'Guest' dropped successfully.\n"
     ]
    },
    {
     "data": {
      "text/plain": [
       "<sqlite3.Cursor at 0x7cdfa822e040>"
      ]
     },
     "execution_count": 29,
     "metadata": {},
     "output_type": "execute_result"
    }
   ],
   "source": [
    "import sqlite3\n",
    "\n",
    "# Connect to the SQLite database (or create it if it doesn't exist)\n",
    "conn = sqlite3.connect('restaurant.db')\n",
    "cur = conn.cursor()\n",
    "\n",
    "try:\n",
    "    cur.execute(\"DROP TABLE IF EXISTS MenuItem;\")\n",
    "    conn.commit()\n",
    "    print(\"Table 'MenuItem' dropped successfully.\")\n",
    "except Exception as e:\n",
    "    print(f\"Error dropping table 'MenuItem': {e}\")\n",
    "\n",
    "try:\n",
    "    cur.execute(\"DROP TABLE IF EXISTS Guest;\")\n",
    "    conn.commit()\n",
    "    print(\"Table 'Guest' dropped successfully.\")\n",
    "except Exception as e:\n",
    "    print(f\"Error dropping table 'Guest': {e}\")\n",
    "\n",
    "try:\n",
    "    cur.execute(\"DROP TABLE IF EXISTS Order1;\")\n",
    "    conn.commit()\n",
    "    print(\"Table 'Guest' dropped successfully.\")\n",
    "except Exception as e:\n",
    "    print(f\"Error dropping table 'Order1': {e}\")\n",
    "\n",
    "# SQL commands to create tables and insert data\n",
    "sql_commands = \"\"\"\n",
    "CREATE TABLE MenuItem (\n",
    "    mid INT,\n",
    "    mname VARCHAR(255),\n",
    "    mtype VARCHAR(255),\n",
    "    price DECIMAL(10, 2),\n",
    "    PRIMARY KEY (mid)\n",
    ");\n",
    "\n",
    "CREATE TABLE Guest (\n",
    "    gid INT,\n",
    "    tableid INT,\n",
    "    PRIMARY KEY (gid)\n",
    ");\n",
    "\n",
    "CREATE TABLE Order1 (\n",
    "    oid INT,\n",
    "    gid INT,\n",
    "    mid INT,\n",
    "    quantity INT,\n",
    "    date DATE,\n",
    "    PRIMARY KEY (oid),\n",
    "    FOREIGN KEY (gid) REFERENCES Guest(gid),\n",
    "    FOREIGN KEY (mid) REFERENCES MenuItem(mid)\n",
    ");\n",
    "\n",
    "INSERT INTO MenuItem (mid, mname, mtype, price) \n",
    "VALUES (1, 'Burger', 'Main Course', 9), (2, 'Salad', 'Appetizer', 5), (3, 'Pizza', 'Main Course', 12), (4, 'Fries', 'Side Dish', 3), (5, 'Ice Cream', 'Dessert', 4),\n",
    "    (6, 'Pasta', 'Main Course', 10), (7, 'Soup', 'Appetizer', 6), (8, 'Sandwich', 'Main Course', 8), (9, 'Cake', 'Dessert', 7), (10, 'Steak', 'Main Course', 15);\n",
    "\n",
    "INSERT INTO Guest (gid, tableid) \n",
    "VALUES (1, 10), (2, 10), (3, 1), (6, 1), (4, 2), (7, 2), (5, 3), (8, 6), (9, 4), (10, 5);\n",
    "\n",
    "INSERT INTO Order1 (oid, gid, mid, quantity, date) \n",
    "VALUES (1, 1, 1, 3, '2022-01-01'), (2, 2, 2, 3, '2022-01-01'), (3, 3, 3, 1, '2022-01-03'), (4, 4, 4, 1, '2022-01-04'),\n",
    " (5, 5, 5, 1, '2022-01-05'), (6, 6, 6, 1, '2022-01-03'), (7, 7, 7, 2, '2022-01-04'), (8, 8, 8, 1, '2022-01-08'),(9, 9, 4, 2, '2022-01-09'), (10, 10, 3, 3, '2022-01-10'),\n",
    " (11, 1, 1, 3, '2022-01-02'), (12, 2, 2, 3, '2022-01-02'), (13, 3, 3, 2, '2022-01-04'), (14, 6, 6, 3, '2022-01-04');\n",
    "\"\"\"\n",
    "\n",
    "# Execute the SQL commands\n",
    "cur.executescript(sql_commands)\n",
    "\n"
   ]
  },
  {
   "cell_type": "code",
   "execution_count": 9,
   "metadata": {},
   "outputs": [
    {
     "name": "stdout",
     "output_type": "stream",
     "text": [
      "mid, mname, mtype, price\n",
      "(1, 'Burger', 'Main Course', 9)\n",
      "(2, 'Salad', 'Appetizer', 5)\n",
      "(3, 'Pizza', 'Main Course', 12)\n",
      "(4, 'Fries', 'Side Dish', 3)\n",
      "(5, 'Ice Cream', 'Dessert', 4)\n",
      "(6, 'Pasta', 'Main Course', 10)\n",
      "(7, 'Soup', 'Appetizer', 6)\n",
      "(8, 'Sandwich', 'Main Course', 8)\n",
      "(9, 'Cake', 'Dessert', 7)\n",
      "(10, 'Steak', 'Main Course', 15)\n"
     ]
    }
   ],
   "source": [
    "print(\"mid, mname, mtype, price\")\n",
    "cur.execute(\"SELECT * FROM MenuItem\")\n",
    "rows = cur.fetchall()\n",
    "for row in rows:\n",
    "    print(row)"
   ]
  },
  {
   "cell_type": "code",
   "execution_count": 10,
   "metadata": {},
   "outputs": [
    {
     "name": "stdout",
     "output_type": "stream",
     "text": [
      "gid, tableid\n",
      "(1, 10)\n",
      "(2, 10)\n",
      "(3, 1)\n",
      "(6, 1)\n",
      "(4, 2)\n",
      "(7, 2)\n",
      "(5, 3)\n",
      "(8, 6)\n",
      "(9, 4)\n",
      "(10, 5)\n"
     ]
    }
   ],
   "source": [
    "print(\"gid, tableid\")\n",
    "cur.execute(\"SELECT * FROM Guest\")\n",
    "rows = cur.fetchall()\n",
    "for row in rows:\n",
    "    print(row)"
   ]
  },
  {
   "cell_type": "code",
   "execution_count": 11,
   "metadata": {},
   "outputs": [
    {
     "name": "stdout",
     "output_type": "stream",
     "text": [
      "oid, gid, mid, quantity, date\n",
      "(1, 1, 1, 2, '2022-01-01')\n",
      "(2, 2, 2, 1, '2022-01-01')\n",
      "(3, 3, 3, 3, '2022-01-03')\n",
      "(4, 4, 4, 2, '2022-01-04')\n",
      "(5, 5, 5, 1, '2022-01-05')\n",
      "(6, 6, 6, 3, '2022-01-03')\n",
      "(7, 7, 7, 2, '2022-01-04')\n",
      "(8, 8, 8, 1, '2022-01-08')\n",
      "(9, 9, 4, 2, '2022-01-09')\n",
      "(10, 10, 3, 3, '2022-01-10')\n",
      "(11, 1, 1, 2, '2022-01-02')\n",
      "(12, 2, 2, 1, '2022-01-02')\n",
      "(13, 3, 3, 3, '2022-01-04')\n",
      "(14, 6, 6, 3, '2022-01-04')\n"
     ]
    }
   ],
   "source": [
    "print(\"oid, gid, mid, quantity, date\")\n",
    "cur.execute(\"SELECT * FROM Order1\")\n",
    "rows = cur.fetchall()\n",
    "for row in rows:\n",
    "    print(row)"
   ]
  },
  {
   "cell_type": "code",
   "execution_count": 12,
   "metadata": {},
   "outputs": [
    {
     "name": "stdout",
     "output_type": "stream",
     "text": [
      "(4, 2)\n",
      "(3, 1)\n",
      "(5, 1)\n",
      "(7, 1)\n",
      "(8, 1)\n"
     ]
    }
   ],
   "source": [
    "\n",
    "# SQL query to fetch data\n",
    "sql_query = \"\"\"\n",
    "WITH GuestOrder1Count AS (\n",
    "    SELECT o.mid, o.gid, COUNT(*) AS Order1_count\n",
    "    FROM Order1 o\n",
    "    GROUP BY o.mid, o.gid\n",
    "),\n",
    "MenuItemGuestCount AS (\n",
    "    SELECT mid, COUNT(gid) AS guest_count\n",
    "    FROM GuestOrder1Count\n",
    "    WHERE Order1_count = 1\n",
    "    GROUP BY mid\n",
    ")\n",
    "SELECT mid, guest_count\n",
    "FROM MenuItemGuestCount\n",
    "ORDER BY guest_count DESC\n",
    "\n",
    "\"\"\"\n",
    "\n",
    "# Execute the query\n",
    "cur.execute(sql_query)\n",
    "# Fetch and print the results\n",
    "results = cur.fetchall()\n",
    "for row in results:\n",
    "    print(row)\n",
    "\n"
   ]
  },
  {
   "cell_type": "code",
   "execution_count": 6,
   "metadata": {},
   "outputs": [
    {
     "name": "stdout",
     "output_type": "stream",
     "text": [
      "(1, 10)\n",
      "(3, 1)\n",
      "(5, 3)\n",
      "(7, 2)\n",
      "(8, 6)\n",
      "(9, 4)\n",
      "(10, 5)\n"
     ]
    }
   ],
   "source": [
    "sql_query1 = \"\"\"\n",
    "WITH GuestMaxPrice AS (\n",
    "    SELECT \n",
    "        g.gid,\n",
    "        g.tableid,\n",
    "        o.date,\n",
    "        MAX(m.price) AS max_price\n",
    "    FROM \n",
    "        Guest g\n",
    "        JOIN Order1 o ON g.gid = o.gid\n",
    "        JOIN MenuItem m ON o.mid = m.mid\n",
    "    GROUP BY \n",
    "        g.gid, g.tableid, o.date\n",
    "),\n",
    "\n",
    "TableMaxPrice AS (\n",
    "    SELECT \n",
    "        g.tableid,\n",
    "        o.date,\n",
    "        MAX(m.price) AS max_price\n",
    "    FROM \n",
    "        Guest g\n",
    "        JOIN Order1 o ON g.gid = o.gid\n",
    "        JOIN MenuItem m ON o.mid = m.mid\n",
    "    GROUP BY \n",
    "        g.tableid, o.date\n",
    "),\n",
    "\n",
    "ConsistentMaxPriceGuests AS (\n",
    "    SELECT \n",
    "        gmp.gid,\n",
    "        gmp.tableid,\n",
    "        gmp.date\n",
    "    FROM \n",
    "        GuestMaxPrice gmp\n",
    "        JOIN TableMaxPrice tmp ON gmp.tableid = tmp.tableid AND gmp.date = tmp.date\n",
    "    WHERE \n",
    "        gmp.max_price = tmp.max_price\n",
    "),\n",
    "\n",
    "EligibleGuests AS (\n",
    "    SELECT \n",
    "        gid\n",
    "    FROM \n",
    "        ConsistentMaxPriceGuests\n",
    "    GROUP BY \n",
    "        gid\n",
    "    HAVING \n",
    "        COUNT(*) = (SELECT COUNT(*) FROM GuestMaxPrice WHERE gid = ConsistentMaxPriceGuests.gid)\n",
    ")\n",
    "\n",
    "SELECT \n",
    "    g.gid,\n",
    "    g.tableid\n",
    "FROM \n",
    "    Guest g\n",
    "JOIN \n",
    "    EligibleGuests eg ON g.gid = eg.gid;\n",
    "\n",
    "\n",
    "\"\"\"\n",
    "\n",
    "cur.execute(sql_query1)\n",
    "\n",
    "\n",
    "results = cur.fetchall()\n",
    "for row in results:\n",
    "    print(row)\n"
   ]
  },
  {
   "cell_type": "code",
   "execution_count": 31,
   "metadata": {},
   "outputs": [
    {
     "name": "stdout",
     "output_type": "stream",
     "text": [
      "(1, 2, 84)\n"
     ]
    }
   ],
   "source": [
    "sql_query2 = \"\"\"\n",
    "WITH GuestVisitAmounts AS (\n",
    "    SELECT \n",
    "        g.gid,\n",
    "        g.tableid,\n",
    "        o.date,\n",
    "        SUM(o.quantity * m.price) AS total_amount\n",
    "    FROM \n",
    "        Guest g\n",
    "        JOIN Order1 o ON g.gid = o.gid\n",
    "        JOIN MenuItem m ON o.mid = m.mid\n",
    "    GROUP BY \n",
    "        g.gid, g.tableid, o.date\n",
    "),\n",
    "\n",
    "GuestPairs AS (\n",
    "    SELECT \n",
    "        gva1.gid AS gid1,\n",
    "        gva2.gid AS gid2,\n",
    "        gva1.tableid,\n",
    "        gva1.date,\n",
    "        gva1.total_amount AS amount1,\n",
    "        gva2.total_amount AS amount2,\n",
    "        gva1.total_amount + gva2.total_amount AS combined_amount\n",
    "    FROM \n",
    "        GuestVisitAmounts gva1\n",
    "        JOIN GuestVisitAmounts gva2 \n",
    "            ON gva1.tableid = gva2.tableid \n",
    "            AND gva1.date = gva2.date \n",
    "            AND gva1.gid < gva2.gid\n",
    "),\n",
    "\n",
    "TotalAmountsByPair AS (\n",
    "    SELECT \n",
    "        gid1, \n",
    "        gid2, \n",
    "        SUM(combined_amount) AS total_combined_amount\n",
    "    FROM \n",
    "        GuestPairs\n",
    "    GROUP BY \n",
    "        gid1, gid2\n",
    "),\n",
    "\n",
    "MaxTotalAmountPair AS (\n",
    "    SELECT \n",
    "        gid1, \n",
    "        gid2, \n",
    "        total_combined_amount\n",
    "    FROM \n",
    "        TotalAmountsByPair\n",
    "    ORDER BY \n",
    "        total_combined_amount DESC\n",
    "    LIMIT 1\n",
    ")\n",
    "\n",
    "SELECT \n",
    "    mtap.gid1, \n",
    "    mtap.gid2, \n",
    "    mtap.total_combined_amount\n",
    "FROM \n",
    "    MaxTotalAmountPair mtap;\n",
    "\n",
    "\n",
    "\n",
    "\"\"\"\n",
    "\n",
    "cur.execute(sql_query2)\n",
    "\n",
    "\n",
    "results = cur.fetchall()\n",
    "for row in results:\n",
    "    print(row)"
   ]
  },
  {
   "cell_type": "code",
   "execution_count": null,
   "metadata": {},
   "outputs": [],
   "source": [
    "# Close the cursor and connection\n",
    "cur.close()\n",
    "conn.close()"
   ]
  }
 ],
 "metadata": {
  "kernelspec": {
   "display_name": "Python 3",
   "language": "python",
   "name": "python3"
  },
  "language_info": {
   "codemirror_mode": {
    "name": "ipython",
    "version": 3
   },
   "file_extension": ".py",
   "mimetype": "text/x-python",
   "name": "python",
   "nbconvert_exporter": "python",
   "pygments_lexer": "ipython3",
   "version": "3.10.14"
  }
 },
 "nbformat": 4,
 "nbformat_minor": 2
}
